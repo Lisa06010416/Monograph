{
 "cells": [
  {
   "cell_type": "code",
   "execution_count": 1,
   "metadata": {},
   "outputs": [],
   "source": [
    "import Preprocess as pre"
   ]
  },
  {
   "cell_type": "code",
   "execution_count": null,
   "metadata": {},
   "outputs": [
    {
     "name": "stdout",
     "output_type": "stream",
     "text": [
      "1210955\n",
      "start pool\n"
     ]
    }
   ],
   "source": [
    "p = pre.Preprocess()\n",
    "\n",
    "\n",
    "def alineDataset(rpath_DB, wpath_DB, size):\n",
    "    rpath, wpath = p.getAllPath(rpath_DB, wpath_DB)\n",
    "    print(len(rpath))\n",
    "    p.startPool(p.facealine, rpath, wpath, size)\n",
    "\n",
    "\n",
    "vggReadPath = r\"./dataset/vgg\"\n",
    "vggWritePath = r\"./dataset/vgg_224x224_aline_mp\"\n",
    "\n",
    "alineDataset(vggReadPath, vggWritePath, 224)"
   ]
  }
 ],
 "metadata": {
  "kernelspec": {
   "display_name": "Python 3",
   "language": "python",
   "name": "python3"
  },
  "language_info": {
   "codemirror_mode": {
    "name": "ipython",
    "version": 3
   },
   "file_extension": ".py",
   "mimetype": "text/x-python",
   "name": "python",
   "nbconvert_exporter": "python",
   "pygments_lexer": "ipython3",
   "version": "3.6.2"
  }
 },
 "nbformat": 4,
 "nbformat_minor": 2
}
